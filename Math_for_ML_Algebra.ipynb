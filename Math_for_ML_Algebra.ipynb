{
  "nbformat": 4,
  "nbformat_minor": 0,
  "metadata": {
    "colab": {
      "provenance": [],
      "authorship_tag": "ABX9TyObB33QU20aVuK7BAFgMroJ",
      "include_colab_link": true
    },
    "kernelspec": {
      "name": "python3",
      "display_name": "Python 3"
    },
    "language_info": {
      "name": "python"
    }
  },
  "cells": [
    {
      "cell_type": "markdown",
      "metadata": {
        "id": "view-in-github",
        "colab_type": "text"
      },
      "source": [
        "<a href=\"https://colab.research.google.com/github/Akshithkumarreddy/Machine_learning_AL/blob/main/Math_for_ML_Algebra.ipynb\" target=\"_parent\"><img src=\"https://colab.research.google.com/assets/colab-badge.svg\" alt=\"Open In Colab\"/></a>"
      ]
    },
    {
      "cell_type": "code",
      "execution_count": 1,
      "metadata": {
        "id": "-ygRrNZuCmMH"
      },
      "outputs": [],
      "source": [
        "import numpy as np"
      ]
    },
    {
      "cell_type": "code",
      "source": [
        "a = np.array([20,40,40])\n",
        "b = np.array([10,20,30])\n",
        "c = np.array([5,10,15,20])"
      ],
      "metadata": {
        "id": "6SYsaTgICwde"
      },
      "execution_count": 2,
      "outputs": []
    },
    {
      "cell_type": "markdown",
      "source": [
        "#Vector operations will be performated only if the vectors of same dimensions"
      ],
      "metadata": {
        "id": "ZgTtOZcWC5lJ"
      }
    },
    {
      "cell_type": "code",
      "source": [
        "a+b"
      ],
      "metadata": {
        "colab": {
          "base_uri": "https://localhost:8080/"
        },
        "id": "0xUtxmSNDAXy",
        "outputId": "c5e5a273-e1d0-4c7b-9d6f-fd4ff2f2abc4"
      },
      "execution_count": 3,
      "outputs": [
        {
          "output_type": "execute_result",
          "data": {
            "text/plain": [
              "array([30, 60, 70])"
            ]
          },
          "metadata": {},
          "execution_count": 3
        }
      ]
    },
    {
      "cell_type": "code",
      "source": [
        "a+c"
      ],
      "metadata": {
        "colab": {
          "base_uri": "https://localhost:8080/",
          "height": 144
        },
        "id": "Es3iWEzYDCPk",
        "outputId": "71b1da8e-a40f-4b0e-e37c-82c48f1f5a6c"
      },
      "execution_count": 4,
      "outputs": [
        {
          "output_type": "error",
          "ename": "ValueError",
          "evalue": "operands could not be broadcast together with shapes (3,) (4,) ",
          "traceback": [
            "\u001b[0;31m---------------------------------------------------------------------------\u001b[0m",
            "\u001b[0;31mValueError\u001b[0m                                Traceback (most recent call last)",
            "\u001b[0;32m<ipython-input-4-e200917bc55f>\u001b[0m in \u001b[0;36m<cell line: 1>\u001b[0;34m()\u001b[0m\n\u001b[0;32m----> 1\u001b[0;31m \u001b[0ma\u001b[0m\u001b[0;34m+\u001b[0m\u001b[0mc\u001b[0m\u001b[0;34m\u001b[0m\u001b[0;34m\u001b[0m\u001b[0m\n\u001b[0m",
            "\u001b[0;31mValueError\u001b[0m: operands could not be broadcast together with shapes (3,) (4,) "
          ]
        }
      ]
    },
    {
      "cell_type": "code",
      "source": [
        "a-b"
      ],
      "metadata": {
        "colab": {
          "base_uri": "https://localhost:8080/"
        },
        "id": "3avvrm1SDDxP",
        "outputId": "fa65fbb0-5d62-4221-af84-d348e11f0470"
      },
      "execution_count": 5,
      "outputs": [
        {
          "output_type": "execute_result",
          "data": {
            "text/plain": [
              "array([10, 20, 10])"
            ]
          },
          "metadata": {},
          "execution_count": 5
        }
      ]
    },
    {
      "cell_type": "code",
      "source": [
        "a-c"
      ],
      "metadata": {
        "colab": {
          "base_uri": "https://localhost:8080/",
          "height": 144
        },
        "id": "fiHhKom0DI8s",
        "outputId": "63ab4a21-0b4f-4214-d946-42c7aa77a35e"
      },
      "execution_count": 6,
      "outputs": [
        {
          "output_type": "error",
          "ename": "ValueError",
          "evalue": "operands could not be broadcast together with shapes (3,) (4,) ",
          "traceback": [
            "\u001b[0;31m---------------------------------------------------------------------------\u001b[0m",
            "\u001b[0;31mValueError\u001b[0m                                Traceback (most recent call last)",
            "\u001b[0;32m<ipython-input-6-6f0e715cd956>\u001b[0m in \u001b[0;36m<cell line: 1>\u001b[0;34m()\u001b[0m\n\u001b[0;32m----> 1\u001b[0;31m \u001b[0ma\u001b[0m\u001b[0;34m-\u001b[0m\u001b[0mc\u001b[0m\u001b[0;34m\u001b[0m\u001b[0;34m\u001b[0m\u001b[0m\n\u001b[0m",
            "\u001b[0;31mValueError\u001b[0m: operands could not be broadcast together with shapes (3,) (4,) "
          ]
        }
      ]
    },
    {
      "cell_type": "code",
      "source": [
        "a*b"
      ],
      "metadata": {
        "colab": {
          "base_uri": "https://localhost:8080/"
        },
        "id": "EupgBrepDK5A",
        "outputId": "5e0c12b8-abf5-47a1-8ba4-e4d0ea86819b"
      },
      "execution_count": 7,
      "outputs": [
        {
          "output_type": "execute_result",
          "data": {
            "text/plain": [
              "array([ 200,  800, 1200])"
            ]
          },
          "metadata": {},
          "execution_count": 7
        }
      ]
    },
    {
      "cell_type": "code",
      "source": [
        "a/b"
      ],
      "metadata": {
        "colab": {
          "base_uri": "https://localhost:8080/"
        },
        "id": "w35Wy-CxDOVG",
        "outputId": "3aa1472b-cd51-439c-e5a1-cead40c143f4"
      },
      "execution_count": 8,
      "outputs": [
        {
          "output_type": "execute_result",
          "data": {
            "text/plain": [
              "array([2.        , 2.        , 1.33333333])"
            ]
          },
          "metadata": {},
          "execution_count": 8
        }
      ]
    },
    {
      "cell_type": "code",
      "source": [
        "scalar=2"
      ],
      "metadata": {
        "id": "wNSdiGpnDaB2"
      },
      "execution_count": 9,
      "outputs": []
    },
    {
      "cell_type": "code",
      "source": [
        "list_a=[10,11,12,13,14,15]\n",
        "print(list_a)"
      ],
      "metadata": {
        "colab": {
          "base_uri": "https://localhost:8080/"
        },
        "id": "FqOaqlWGDbtX",
        "outputId": "e77bd5ad-6809-4765-ce04-ff4f5f0ce41b"
      },
      "execution_count": 10,
      "outputs": [
        {
          "output_type": "stream",
          "name": "stdout",
          "text": [
            "[10, 11, 12, 13, 14, 15]\n"
          ]
        }
      ]
    },
    {
      "cell_type": "code",
      "source": [
        "listasarray = np.array(list_a)\n",
        "print(listasarray)"
      ],
      "metadata": {
        "colab": {
          "base_uri": "https://localhost:8080/"
        },
        "id": "MbhYf4EhDi0T",
        "outputId": "2c214264-6956-40ea-c9c6-a1f97ba22e41"
      },
      "execution_count": 11,
      "outputs": [
        {
          "output_type": "stream",
          "name": "stdout",
          "text": [
            "[10 11 12 13 14 15]\n"
          ]
        }
      ]
    },
    {
      "cell_type": "code",
      "source": [
        "scalar*list_a #it prints list a scalar times"
      ],
      "metadata": {
        "colab": {
          "base_uri": "https://localhost:8080/"
        },
        "id": "pflOk45bDxKF",
        "outputId": "442db6df-5779-4239-a267-b37f6c018f3f"
      },
      "execution_count": 12,
      "outputs": [
        {
          "output_type": "execute_result",
          "data": {
            "text/plain": [
              "[10, 11, 12, 13, 14, 15, 10, 11, 12, 13, 14, 15]"
            ]
          },
          "metadata": {},
          "execution_count": 12
        }
      ]
    },
    {
      "cell_type": "code",
      "source": [
        "scalar*listasarray # it mutiples each scaler into list as array elements"
      ],
      "metadata": {
        "colab": {
          "base_uri": "https://localhost:8080/"
        },
        "id": "X1mrYWLHD0Xb",
        "outputId": "0b76269b-3ed4-4386-f413-6c497fb789c3"
      },
      "execution_count": 13,
      "outputs": [
        {
          "output_type": "execute_result",
          "data": {
            "text/plain": [
              "array([20, 22, 24, 26, 28, 30])"
            ]
          },
          "metadata": {},
          "execution_count": 13
        }
      ]
    },
    {
      "cell_type": "markdown",
      "source": [
        "#dot product of vectors\n",
        "\n",
        "a.b = sum of a*b #it shoud be same dimensional"
      ],
      "metadata": {
        "id": "IYkzD7S6FrBz"
      }
    },
    {
      "cell_type": "code",
      "source": [
        "import numpy as np\n",
        "a = np.array([1,2,3,4,5])\n",
        "b = np.array([6,7,8,9,10])"
      ],
      "metadata": {
        "id": "tLSGyJj_F4GN"
      },
      "execution_count": 18,
      "outputs": []
    },
    {
      "cell_type": "code",
      "source": [
        "np.dot(a,b) # 1*6 + 2*7 + 3*8 + 4*9 + 5*10 => 6 + 14 + 24 +  36 + 50 => 130"
      ],
      "metadata": {
        "colab": {
          "base_uri": "https://localhost:8080/"
        },
        "id": "ZAa7243NGKXq",
        "outputId": "b208f6e4-4c3e-4156-8ef7-785c969c643c"
      },
      "execution_count": 19,
      "outputs": [
        {
          "output_type": "execute_result",
          "data": {
            "text/plain": [
              "130"
            ]
          },
          "metadata": {},
          "execution_count": 19
        }
      ]
    },
    {
      "cell_type": "markdown",
      "source": [
        "Basic properties for DOT product\n",
        "\n",
        "1. it is commutative a.b = b.a\n",
        "2. it is distributive i.e.; a(b+c) = a.b + a.c"
      ],
      "metadata": {
        "id": "JsD1PtfXHO-Q"
      }
    },
    {
      "cell_type": "code",
      "source": [
        "c = np.array([11,12,13,14,15])"
      ],
      "metadata": {
        "id": "3Obg9yDrHfpb"
      },
      "execution_count": 20,
      "outputs": []
    },
    {
      "cell_type": "code",
      "source": [
        "np.dot(b,a)"
      ],
      "metadata": {
        "colab": {
          "base_uri": "https://localhost:8080/"
        },
        "id": "utnQhhJ8HnRw",
        "outputId": "c2182ec0-1edb-43f4-ed11-5240fde7c0f8"
      },
      "execution_count": 21,
      "outputs": [
        {
          "output_type": "execute_result",
          "data": {
            "text/plain": [
              "130"
            ]
          },
          "metadata": {},
          "execution_count": 21
        }
      ]
    },
    {
      "cell_type": "code",
      "source": [
        "first_result = np.dot(a,b+c)\n",
        "print(first_result)"
      ],
      "metadata": {
        "colab": {
          "base_uri": "https://localhost:8080/"
        },
        "id": "LikFaNIRIB0Y",
        "outputId": "18b558ac-595d-47c2-f311-b663d731a9b0"
      },
      "execution_count": 23,
      "outputs": [
        {
          "output_type": "stream",
          "name": "stdout",
          "text": [
            "335\n"
          ]
        }
      ]
    },
    {
      "cell_type": "code",
      "source": [
        "second_result = np.dot(a,b) + np.dot(a,c)\n",
        "print(second_result)"
      ],
      "metadata": {
        "colab": {
          "base_uri": "https://localhost:8080/"
        },
        "id": "5CBt60UcHtVM",
        "outputId": "ec9ff6aa-f7b4-4fd7-97f5-1bf09d0e0e64"
      },
      "execution_count": 24,
      "outputs": [
        {
          "output_type": "stream",
          "name": "stdout",
          "text": [
            "335\n"
          ]
        }
      ]
    },
    {
      "cell_type": "markdown",
      "source": [
        "Magnitude of a vector: it is the distance between Tail to Head of a vector\n",
        "\n",
        "formula : squareroot of sum of squared vector elements\n",
        "\n",
        "in numpy we have a function called norm which takes care of this calculation\n",
        "\n",
        "magnitude = np.norm(a) # if we need to calculate magnitude of vector a\n"
      ],
      "metadata": {
        "id": "hnIDsOccIej9"
      }
    },
    {
      "cell_type": "markdown",
      "source": [
        "Vector projection : A vector projection of a vector a onto vector b is called orthogonal projection of a onto b\n",
        "\n",
        "Formula : Take the dot product of vector b and a , and divide it by magnitude of a\n",
        "\n",
        "it gives scalar value\n",
        "\n",
        "in order to get vector projection, we need to multiply the scalar value with unit factor of b"
      ],
      "metadata": {
        "id": "w07pH_yPJUZt"
      }
    },
    {
      "cell_type": "markdown",
      "source": [
        "Scalar and vector projection"
      ],
      "metadata": {
        "id": "1pPTpqZRKddt"
      }
    },
    {
      "cell_type": "code",
      "source": [
        "import numpy as np\n",
        "from numpy import linalg as lng"
      ],
      "metadata": {
        "id": "9UMwizI3Kgw0"
      },
      "execution_count": 25,
      "outputs": []
    },
    {
      "cell_type": "code",
      "source": [
        "a = np.array([10,20,30,40,50])\n",
        "b = np.array([60,70,80,90,100])"
      ],
      "metadata": {
        "id": "o1fm8KOmKs-2"
      },
      "execution_count": 26,
      "outputs": []
    },
    {
      "cell_type": "code",
      "source": [
        "lng.norm(a)"
      ],
      "metadata": {
        "colab": {
          "base_uri": "https://localhost:8080/"
        },
        "id": "VLTEsGfKK2xM",
        "outputId": "6601cbe5-5749-4b85-9724-4daf19195340"
      },
      "execution_count": 27,
      "outputs": [
        {
          "output_type": "execute_result",
          "data": {
            "text/plain": [
              "74.16198487095663"
            ]
          },
          "metadata": {},
          "execution_count": 27
        }
      ]
    },
    {
      "cell_type": "code",
      "source": [
        "vector_projection = (np.dot(a,b)/np.dot(b,b))*b"
      ],
      "metadata": {
        "id": "FGs0nZzQLAd3"
      },
      "execution_count": 28,
      "outputs": []
    },
    {
      "cell_type": "code",
      "source": [
        "print(vector_projection)"
      ],
      "metadata": {
        "colab": {
          "base_uri": "https://localhost:8080/"
        },
        "id": "6wB_OWhzLQqC",
        "outputId": "a4b15e8a-67f4-4811-bc37-d642ef689347"
      },
      "execution_count": 29,
      "outputs": [
        {
          "output_type": "stream",
          "name": "stdout",
          "text": [
            "[23.63636364 27.57575758 31.51515152 35.45454545 39.39393939]\n"
          ]
        }
      ]
    },
    {
      "cell_type": "markdown",
      "source": [
        "Three properties of vecators -\n",
        "\n",
        "1. are Linearlly independet of each other\n",
        "2. span the whole space\n",
        "3. aren't unique"
      ],
      "metadata": {
        "id": "kFyonPcIN2-Q"
      }
    }
  ]
}
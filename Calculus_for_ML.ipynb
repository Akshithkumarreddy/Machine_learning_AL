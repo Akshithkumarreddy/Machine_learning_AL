{
  "nbformat": 4,
  "nbformat_minor": 0,
  "metadata": {
    "colab": {
      "provenance": [],
      "authorship_tag": "ABX9TyOgBo2U0BqH/g1o2LcHds+l",
      "include_colab_link": true
    },
    "kernelspec": {
      "name": "python3",
      "display_name": "Python 3"
    },
    "language_info": {
      "name": "python"
    }
  },
  "cells": [
    {
      "cell_type": "markdown",
      "metadata": {
        "id": "view-in-github",
        "colab_type": "text"
      },
      "source": [
        "<a href=\"https://colab.research.google.com/github/Akshithkumarreddy/Machine_learning_AL/blob/main/Calculus_for_ML.ipynb\" target=\"_parent\"><img src=\"https://colab.research.google.com/assets/colab-badge.svg\" alt=\"Open In Colab\"/></a>"
      ]
    },
    {
      "cell_type": "markdown",
      "source": [
        "The Sum Rule"
      ],
      "metadata": {
        "id": "-XgDIHqsa1cj"
      }
    },
    {
      "cell_type": "code",
      "source": [
        "from sympy import *\n",
        "from scipy.misc import derivative"
      ],
      "metadata": {
        "id": "UofKCpvSazXs"
      },
      "execution_count": 1,
      "outputs": []
    },
    {
      "cell_type": "code",
      "source": [
        "x = Symbol('x')\n",
        "Fx = 7*x**3+x**2+1"
      ],
      "metadata": {
        "id": "dJ0cTsKgbNVQ"
      },
      "execution_count": 3,
      "outputs": []
    },
    {
      "cell_type": "code",
      "source": [
        "Derivative(Fx,x)"
      ],
      "metadata": {
        "colab": {
          "base_uri": "https://localhost:8080/",
          "height": 52
        },
        "id": "xzlcacI6bf3b",
        "outputId": "f8703846-3bbd-433d-eaf5-354c425c93c2"
      },
      "execution_count": 4,
      "outputs": [
        {
          "output_type": "execute_result",
          "data": {
            "text/plain": [
              "Derivative(7*x**3 + x**2 + 1, x)"
            ],
            "text/latex": "$\\displaystyle \\frac{d}{d x} \\left(7 x^{3} + x^{2} + 1\\right)$"
          },
          "metadata": {},
          "execution_count": 4
        }
      ]
    },
    {
      "cell_type": "code",
      "source": [
        "Derivative(Fx,x).doit()"
      ],
      "metadata": {
        "colab": {
          "base_uri": "https://localhost:8080/",
          "height": 39
        },
        "id": "hgWe-_9Xbtml",
        "outputId": "b8e7fd79-2b02-4d68-f052-be649afe1332"
      },
      "execution_count": 5,
      "outputs": [
        {
          "output_type": "execute_result",
          "data": {
            "text/plain": [
              "21*x**2 + 2*x"
            ],
            "text/latex": "$\\displaystyle 21 x^{2} + 2 x$"
          },
          "metadata": {},
          "execution_count": 5
        }
      ]
    },
    {
      "cell_type": "code",
      "source": [
        "def f(x):\n",
        "  return 7*x**3+x**2+1\n",
        "derivative(f,1.0)"
      ],
      "metadata": {
        "colab": {
          "base_uri": "https://localhost:8080/"
        },
        "id": "sjzTYhmKb-CR",
        "outputId": "6c45a01f-9a59-4017-d33a-124a06c87d1b"
      },
      "execution_count": 6,
      "outputs": [
        {
          "output_type": "stream",
          "name": "stderr",
          "text": [
            "<ipython-input-6-cabe081648b1>:3: DeprecationWarning: scipy.misc.derivative is deprecated in SciPy v1.10.0; and will be completely removed in SciPy v1.12.0. You may consider using findiff: https://github.com/maroba/findiff or numdifftools: https://github.com/pbrod/numdifftools\n",
            "  derivative(f,1.0)\n"
          ]
        },
        {
          "output_type": "execute_result",
          "data": {
            "text/plain": [
              "30.0"
            ]
          },
          "metadata": {},
          "execution_count": 6
        }
      ]
    },
    {
      "cell_type": "code",
      "source": [
        "x,y,z = symbols('x,y,z',real=True)\n",
        "f = x**2 + y**3 + z**4 + 5*x*y*z\n",
        "f"
      ],
      "metadata": {
        "colab": {
          "base_uri": "https://localhost:8080/",
          "height": 39
        },
        "id": "tIAtBw56ifa2",
        "outputId": "8e75302d-d4ba-4a73-e939-caabcddb489a"
      },
      "execution_count": 9,
      "outputs": [
        {
          "output_type": "execute_result",
          "data": {
            "text/plain": [
              "x**2 + 5*x*y*z + y**3 + z**4"
            ],
            "text/latex": "$\\displaystyle x^{2} + 5 x y z + y^{3} + z^{4}$"
          },
          "metadata": {},
          "execution_count": 9
        }
      ]
    },
    {
      "cell_type": "code",
      "source": [
        "for var in [x,y,z]:\n",
        "  print('f_'+str(var)+'=',f.diff(var))"
      ],
      "metadata": {
        "colab": {
          "base_uri": "https://localhost:8080/"
        },
        "id": "8ZRF55NMjBwI",
        "outputId": "f947d525-3a3e-4424-e664-e8c95501a692"
      },
      "execution_count": 12,
      "outputs": [
        {
          "output_type": "stream",
          "name": "stdout",
          "text": [
            "f_x= 2*x + 5*y*z\n",
            "f_y= 5*x*z + 3*y**2\n",
            "f_z= 5*x*y + 4*z**3\n"
          ]
        }
      ]
    }
  ]
}
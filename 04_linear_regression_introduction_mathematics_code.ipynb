{
  "cells": [
    {
      "cell_type": "markdown",
      "metadata": {
        "id": "view-in-github",
        "colab_type": "text"
      },
      "source": [
        "<a href=\"https://colab.research.google.com/github/Akshithkumarreddy/Machine_learning_AL/blob/main/04_linear_regression_introduction_mathematics_code.ipynb\" target=\"_parent\"><img src=\"https://colab.research.google.com/assets/colab-badge.svg\" alt=\"Open In Colab\"/></a>"
      ]
    },
    {
      "cell_type": "markdown",
      "metadata": {
        "id": "wn9Yzmcgpws-"
      },
      "source": [
        "### What is Linear Regression?\n",
        "It is a relationship between 2 variables x and y where\n",
        "x = input or independent variables\n",
        "y = output or dependent value\n",
        "This relationship is in the form of a straight line that best tries to fit each variable.\n",
        "\n",
        "Mathematically it can be defined as\n",
        "y = mx + c where x and y are as defined above,\n",
        "m = slope or coefficient of regression\n",
        "c = constant\n",
        "\n",
        "General view of a straight line : y = mx + c\n",
        "\n",
        "![line%202.png](attachment:line%202.png)\n",
        "\n"
      ]
    },
    {
      "cell_type": "markdown",
      "metadata": {
        "id": "2wvjyZy-pwtA"
      },
      "source": [
        "### Best fit line\n",
        "Let us see a real world graphical representation of Linear Regression. For this we are using [SARS 2003 dataset](https://www.kaggle.com/imdevskp/sars-outbreak-2003-complete-dataset) provided by Kaggle.\n",
        "\n",
        "Here, we are showing the data in the form of a scatter plot where the relationship between x and y variables is shown. To get better understanding of the relationship, we draw a line called as - best fit line.\n",
        "It is a line that is drawn through the scatter plot points. The idea of this line is to best fit all the points.\n",
        "\n",
        "![bestfitline.png](attachment:bestfitline.png)\n",
        "\n",
        "\n",
        "### Evaluation metrics:\n",
        "\n",
        "1. Mean Absolute Error (MAE):\n",
        "The distance between any data point and the best fit line is called as prediction error. The absolute mean of it is called as Mean Absolute Error (MAE).\n",
        "\n",
        "Value range: 0 to ∞\n",
        "Best value = 0.0 or we can also say that lower the value, better it is.\n",
        "\n",
        "Formula of it is:\n",
        "![mae%20formula.png](attachment:mae%20formula.png)\n",
        "\n",
        "2. Mean Squared Error (MSE):\n",
        "\n",
        "The summation of suqare of all the distances between any data point and the best fit line divided by the total number of data points (mean) gives us a value called as Mean Squared Error.\n",
        "\n",
        "Formula of it is:\n",
        "![mse%20formula.png](attachment:mse%20formula.png)\n",
        "\n",
        "Value range: 0 to ∞\n",
        "Best value = 0.0 or we can also say that lower the value, better it is.\n",
        "\n",
        "3. Root Mean Squared Error (RMSE):\n",
        "For calculating RMSE, we do square root of MSE.\n",
        "\n",
        "Value range: 0 to ∞\n",
        "Best value = 0.0 or we can also say that lower the value, better it is.\n",
        "\n",
        "Formula of it is:\n",
        "![rmse.png](attachment:rmse.png)\n",
        "\n",
        "If MAE or MSE or RMSE value is 0 then it means that all the data points are on the best fit line. Higher the value means that the data points are away from the best fit line.\n",
        "\n",
        "4. R2 Score - Coefficient of Determination:\n",
        "\n",
        "R2 Score is defined as regression sum of squares divided by the total sum of squares.\n",
        "\n",
        "Let's see the formula and then we will find all the parameters needed to calculate the value of R-square:\n",
        "\n",
        "![r2%20score.png](attachment:r2%20score.png)\n",
        "\n",
        "OR\n",
        "\n",
        "![r%20square.png](attachment:r%20square.png)\n",
        "\n",
        "![r2%20%20best%20fit%20line.png](attachment:r2%20%20best%20fit%20line.png)\n",
        "\n",
        "Consider the above example with one new line - horizontal added. So, now we can describe the formula components as -\n",
        "\n",
        "a) SS (Res) = Regression sum of squares and it quantifies how far is the regression slope is from the horizontal (no relationship line) the sample mean or y¯.\n",
        "\n",
        "b) SS (Tot) = Regression total sum of squares and it quantifies how much the data points, yi, vary around their mean, y¯."
      ]
    },
    {
      "cell_type": "markdown",
      "metadata": {
        "id": "BNfczdYtpwtA"
      },
      "source": [
        "### Hands-on coded solutiion\n",
        "\n",
        "Here, for implementing Linear Regression, training the data and evaluating it we will be using the SARS 2003 dataset.\n",
        "\n",
        "Read more about SARS here - [wiki](https://en.wikipedia.org/wiki/Severe_acute_respiratory_syndrome).\n",
        "The following is code it."
      ]
    },
    {
      "cell_type": "code",
      "execution_count": null,
      "metadata": {
        "_cell_guid": "b1076dfc-b9ad-4769-8c92-a6c4dae69d19",
        "_uuid": "8f2839f25d086af736a60e9eeb907d3b93b6e0e5",
        "id": "Pztda99FpwtA",
        "outputId": "835e971e-fc0d-49cc-f814-f9afce36704f"
      },
      "outputs": [
        {
          "name": "stdout",
          "output_type": "stream",
          "text": [
            "/kaggle/input/sars-outbreak-2003-complete-dataset/sars_2003_complete_dataset_clean.csv\n"
          ]
        }
      ],
      "source": [
        "# This Python 3 environment comes with many helpful analytics libraries installed\n",
        "# It is defined by the kaggle/python docker image: https://github.com/kaggle/docker-python\n",
        "# For example, here's several helpful packages to load in\n",
        "\n",
        "import numpy as np # linear algebra\n",
        "import pandas as pd # data processing, CSV file I/O (e.g. pd.read_csv)\n",
        "\n",
        "# Input data files are available in the \"../input/\" directory.\n",
        "# For example, running this (by clicking run or pressing Shift+Enter) will list all files under the input directory\n",
        "\n",
        "# Data Visualization libraries import\n",
        "import matplotlib.pyplot as plt\n",
        "%matplotlib inline\n",
        "import seaborn as sns\n",
        "\n",
        "# Code for importing files and libraries\n",
        "import os\n",
        "output_path = os.path.abspath('/kaggle/output')\n",
        "for dirname, _, filenames in os.walk('/kaggle/input'):\n",
        "    for filename in filenames:\n",
        "        print(os.path.join(dirname, filename))\n"
      ]
    },
    {
      "cell_type": "code",
      "execution_count": null,
      "metadata": {
        "id": "JdjUfKQRpwtB"
      },
      "outputs": [],
      "source": [
        "#Read the file from the directory\n",
        "df = pd.read_csv(\"/kaggle/input/sars-outbreak-2003-complete-dataset/sars_2003_complete_dataset_clean.csv\")"
      ]
    },
    {
      "cell_type": "code",
      "execution_count": null,
      "metadata": {
        "id": "FYD0nCdNpwtC",
        "outputId": "4ada950c-80c1-4311-f21c-75b3181a61dc"
      },
      "outputs": [
        {
          "name": "stdout",
          "output_type": "stream",
          "text": [
            "<class 'pandas.core.frame.DataFrame'>\n",
            "RangeIndex: 2538 entries, 0 to 2537\n",
            "Data columns (total 5 columns):\n",
            "Date                            2538 non-null object\n",
            "Country                         2538 non-null object\n",
            "Cumulative number of case(s)    2538 non-null int64\n",
            "Number of deaths                2538 non-null int64\n",
            "Number recovered                2538 non-null int64\n",
            "dtypes: int64(3), object(2)\n",
            "memory usage: 99.3+ KB\n"
          ]
        }
      ],
      "source": [
        "#Understanding the dataset in detail\n",
        "df.info()"
      ]
    },
    {
      "cell_type": "code",
      "execution_count": null,
      "metadata": {
        "id": "oZDAxcFXpwtC"
      },
      "outputs": [],
      "source": [
        "#Changing the names of the columns\n",
        "df= df.rename(columns={'Cumulative number of case(s)': 'Cumulative_Cases', 'Number of deaths': 'Death_Count',\n",
        "                      'Number recovered': 'Recovered_Count'})"
      ]
    },
    {
      "cell_type": "markdown",
      "metadata": {
        "id": "hYdO2_PepwtC"
      },
      "source": [
        "### EDA\n",
        "\n",
        "Total number of rows in 2538 where country wise data is given.\n",
        "Total number of cases, deaths and recovered cases are given in the integer data type.\n",
        "Date and Country features are of object type. So, Date feature will be converted into datetime first and then to numeric value.\n",
        "Also, Country feature is to be converted to numeric value using Encoding technoques."
      ]
    },
    {
      "cell_type": "code",
      "execution_count": null,
      "metadata": {
        "id": "aMSbNYF7pwtC"
      },
      "outputs": [],
      "source": [
        "#Converting Date feature first to the datetime feature\n",
        "df.Date = df.Date.apply(pd.to_datetime)"
      ]
    },
    {
      "cell_type": "markdown",
      "metadata": {
        "id": "nIPdnpJIpwtC"
      },
      "source": [
        "### Graphical understanding\n",
        "\n",
        "Graph 1:\n",
        "If we plot a scatterplot of Cumulative cases against Deaths we can see that as the number of cases started increasing the death count also started increasing."
      ]
    },
    {
      "cell_type": "code",
      "execution_count": null,
      "metadata": {
        "id": "eGVlxaDepwtC",
        "outputId": "b3201ca4-b8fa-48be-f4d3-e4a724e52d6e"
      },
      "outputs": [
        {
          "data": {
            "text/plain": [
              "Text(0, 0.5, 'Deaths occured')"
            ]
          },
          "execution_count": 6,
          "metadata": {},
          "output_type": "execute_result"
        },
        {
          "data": {
            "image/png": "[encoded data removed]",
            "text/plain": [
              "<Figure size 720x360 with 1 Axes>"
            ]
          },
          "metadata": {
            "needs_background": "light"
          },
          "output_type": "display_data"
        }
      ],
      "source": [
        "plt.figure(figsize = [10,5])\n",
        "plt.title('Distribution of Confirmed Cases vs Death for SARS 2003')\n",
        "\n",
        "sns.scatterplot(x = df['Cumulative_Cases'], y=df['Death_Count'])\n",
        "\n",
        "plt.xlabel('Cumulative number of cases')\n",
        "plt.ylabel(\"Deaths occured\")"
      ]
    },
    {
      "cell_type": "markdown",
      "metadata": {
        "id": "SgLoZOFDpwtC"
      },
      "source": [
        "Graph 2:\n",
        "Viewing the above graph with and evaluating the Recovered Feature, we can say that the number of recovered cases started increasing when the cumulative cases started increasing. We can also say that as the medical team took time to understand the disease and then in few weeks time they were able to recover many people from the disease."
      ]
    },
    {
      "cell_type": "code",
      "execution_count": null,
      "metadata": {
        "id": "u9xA45cvpwtC",
        "outputId": "043e3b8b-eccd-48f4-bc60-2522b404b33a"
      },
      "outputs": [
        {
          "data": {
            "text/plain": [
              "Text(0, 0.5, 'Deaths occured')"
            ]
          },
          "execution_count": 7,
          "metadata": {},
          "output_type": "execute_result"
        },
        {
          "data": {
            "image/png": "[encoded data removed]",
            "text/plain": [
              "<Figure size 720x360 with 1 Axes>"
            ]
          },
          "metadata": {
            "needs_background": "light"
          },
          "output_type": "display_data"
        }
      ],
      "source": [
        "plt.figure(figsize = [10,5])\n",
        "plt.title('Distribution of Confirmed Cases vs Death for SARS 2003')\n",
        "\n",
        "sns.scatterplot(x = df['Cumulative_Cases'], y=df['Death_Count'], hue = df['Recovered_Count'])\n",
        "\n",
        "plt.xlabel('Cumulative number of cases')\n",
        "plt.ylabel(\"Deaths occured\")"
      ]
    },
    {
      "cell_type": "markdown",
      "metadata": {
        "id": "7oiIOq4ApwtD"
      },
      "source": [
        "Graph 3: So,now we will plot the Regression Line for the above scatter plot."
      ]
    },
    {
      "cell_type": "code",
      "execution_count": null,
      "metadata": {
        "id": "3Akl_Kv3pwtD",
        "outputId": "338fbf55-0691-4f73-dc32-d145dc90ac0d"
      },
      "outputs": [
        {
          "data": {
            "text/plain": [
              "Text(0, 0.5, 'Deaths occured')"
            ]
          },
          "execution_count": 8,
          "metadata": {},
          "output_type": "execute_result"
        },
        {
          "data": {
            "image/png": "[encoded data removed]",
            "text/plain": [
              "<Figure size 720x360 with 1 Axes>"
            ]
          },
          "metadata": {
            "needs_background": "light"
          },
          "output_type": "display_data"
        }
      ],
      "source": [
        "plt.figure(figsize = [10,5])\n",
        "plt.title('Regression Line Distribution of Confirmed Cases vs Death for SARS 2003')\n",
        "\n",
        "sns.regplot(x = df['Cumulative_Cases'], y=df['Death_Count'])\n",
        "\n",
        "plt.xlabel('Cumulative number of cases')\n",
        "plt.ylabel(\"Deaths occured\")"
      ]
    },
    {
      "cell_type": "markdown",
      "metadata": {
        "id": "k0toLd9wpwtD"
      },
      "source": [
        "### Feature Engineering"
      ]
    },
    {
      "cell_type": "code",
      "execution_count": null,
      "metadata": {
        "id": "UnmSCYjapwtD"
      },
      "outputs": [],
      "source": [
        "# Performing feature engineering and extracting details from Date feature.\n",
        "# Since the entire dataset is of year 2003, so we are not considering year.\n",
        "# Only, we are extracting month and date values.\n",
        "# It is important to convert the new feature into type int\n",
        "\n",
        "df['Day_of_the_year'] = df.Date.dt.strftime(\"%d\").astype(int)\n",
        "df['Week_of_the_year'] = df.Date.dt.strftime(\"%w\").astype(int)\n",
        "df['Month_of_the_year'] = df.Date.dt.strftime(\"%m\").astype(int)\n",
        "df.drop(['Date'], inplace = True, axis = 1)"
      ]
    },
    {
      "cell_type": "markdown",
      "metadata": {
        "id": "sKVBIBhPpwtD"
      },
      "source": [
        "### Label Encoding\n",
        "\n",
        "Here, we will first find out all the features that are not of type numeric. Then, using Label Encoding class by sklearn we will convert the feature type to numeric.\n",
        "\n",
        "Reason: To train a machine learning models we need all the data in numbers format (integer or float). Models don't understand text or any other data. We can use Label Encoding or One Hot Encoding for this."
      ]
    },
    {
      "cell_type": "code",
      "execution_count": null,
      "metadata": {
        "id": "MGX1N0cppwtD",
        "outputId": "ff39212f-e594-4528-9175-b5e6fb0f1504"
      },
      "outputs": [
        {
          "name": "stdout",
          "output_type": "stream",
          "text": [
            "Index(['Country'], dtype='object')\n",
            "0                    Germany\n",
            "1                     Canada\n",
            "2                  Singapore\n",
            "3       Hong Kong SAR, China\n",
            "4                Switzerland\n",
            "                ...         \n",
            "2533             Switzerland\n",
            "2534                Thailand\n",
            "2535          United Kingdom\n",
            "2536           United States\n",
            "2537                Viet Nam\n",
            "Name: Country, Length: 2538, dtype: object\n"
          ]
        }
      ],
      "source": [
        "obj_type_features = df.select_dtypes(include = \"object\").columns\n",
        "print (obj_type_features)\n",
        "print (df.Country) #Before Encoding"
      ]
    },
    {
      "cell_type": "code",
      "execution_count": null,
      "metadata": {
        "id": "Fx5m9NdkpwtD",
        "outputId": "d88fc0b1-1a02-41e9-e765-d867f59c1caa"
      },
      "outputs": [
        {
          "name": "stdout",
          "output_type": "stream",
          "text": [
            "0        9\n",
            "1        4\n",
            "2       26\n",
            "3       10\n",
            "4       31\n",
            "        ..\n",
            "2533    31\n",
            "2534    33\n",
            "2535    34\n",
            "2536    35\n",
            "2537    36\n",
            "Name: Country, Length: 2538, dtype: int64\n"
          ]
        }
      ],
      "source": [
        "# We only have one feature - Country. So, now let's use Label Encoding.\n",
        "\n",
        "from sklearn.preprocessing import LabelEncoder\n",
        "le = LabelEncoder()\n",
        "\n",
        "#Now we will transform the data of feature Country\n",
        "df.Country = le.fit_transform(df.Country)\n",
        "\n",
        "#Now print and check Country feature values after encoding\n",
        "print (df.Country)"
      ]
    },
    {
      "cell_type": "markdown",
      "metadata": {
        "id": "95rJiM-ApwtD"
      },
      "source": [
        "We can see that all the values are transformed into numeric values.\n",
        "\n",
        "Now, since there are no null values, all feature engineering is done, all object types are converted to the numeric type, we are good to start training out Linear Regression model.\n",
        "\n",
        "But, before thath we need to divide the dataset into 2 parts: train and test dataset.\n",
        "If we have 2 different dataset given in the problem statement then we may not split the data as mentioned above."
      ]
    },
    {
      "cell_type": "code",
      "execution_count": null,
      "metadata": {
        "id": "2tLWdZohpwtD"
      },
      "outputs": [],
      "source": [
        "from sklearn.model_selection import train_test_split\n",
        "\n",
        "#Let us assume that we are predicting\n",
        "X = df.drop(['Death_Count'], axis = 1)\n",
        "y = df['Death_Count']\n",
        "X_train, X_test, y_train, y_test = train_test_split(X, y, test_size=0.33, random_state=42)"
      ]
    },
    {
      "cell_type": "markdown",
      "metadata": {
        "id": "xvDfPhRBpwtD"
      },
      "source": [
        "### Model Training\n",
        "\n"
      ]
    },
    {
      "cell_type": "code",
      "execution_count": null,
      "metadata": {
        "id": "NcSP4t6epwtD"
      },
      "outputs": [],
      "source": [
        "#import the model class from sklearn\n",
        "\n",
        "from sklearn.linear_model import LinearRegression\n",
        "reg = LinearRegression()\n",
        "reg.fit(X_train, y_train)\n",
        "y_pred = reg.predict(X_test)"
      ]
    },
    {
      "cell_type": "markdown",
      "metadata": {
        "id": "JOBzVBd1pwtD"
      },
      "source": [
        "### Evaluation code\n",
        "\n",
        "Here, as described in the introduction we will calculate following metrics of evaluation for test data and see how well is our model performing.\n",
        "1. Mean Absolute Error (MAE)\n",
        "2. Mean Squared Error (MSE)\n",
        "3. Root Mean Squared Error (RMSE)\n",
        "4. Coefficient of determination (R2 score)"
      ]
    },
    {
      "cell_type": "code",
      "execution_count": null,
      "metadata": {
        "id": "JWzwcMwhpwtD",
        "outputId": "dbe3f55e-7d27-434d-e954-b8ac930c552c"
      },
      "outputs": [
        {
          "name": "stdout",
          "output_type": "stream",
          "text": [
            "Mean Absolute Error (MAE) - Test data :  9.929501662116406\n",
            "Mean Squared Error (MSE) - Test data :  767.3004229796272\n",
            "Root Mean Squared Error (RMSE) - Test data :  27.700188139787556\n",
            "Co-efficient of determination (R2 Score):  0.806576560956122\n"
          ]
        }
      ],
      "source": [
        "from sklearn import metrics\n",
        "\n",
        "print (\"Mean Absolute Error (MAE) - Test data : \", metrics.mean_absolute_error(y_test, y_pred))\n",
        "\n",
        "print (\"Mean Squared Error (MSE) - Test data : \", metrics.mean_squared_error(y_test, y_pred))\n",
        "\n",
        "print (\"Root Mean Squared Error (RMSE) - Test data : \", np.sqrt(metrics.mean_squared_error(y_test, y_pred)))\n",
        "\n",
        "print(\"Co-efficient of determination (R2 Score): \", metrics.r2_score(y_test, y_pred))\n"
      ]
    },
    {
      "cell_type": "markdown",
      "metadata": {
        "id": "fu48JhFVpwtE"
      },
      "source": [
        "If you have liked this explanation then please upvote for it. Also, if you want me to make such explanation notebooks for any other model of your choice then comment it below."
      ]
    }
  ],
  "metadata": {
    "kernelspec": {
      "display_name": "Python 3",
      "language": "python",
      "name": "python3"
    },
    "language_info": {
      "codemirror_mode": {
        "name": "ipython",
        "version": 3
      },
      "file_extension": ".py",
      "mimetype": "text/x-python",
      "name": "python",
      "nbconvert_exporter": "python",
      "pygments_lexer": "ipython3",
      "version": "3.6.6"
    },
    "colab": {
      "provenance": [],
      "include_colab_link": true
    }
  },
  "nbformat": 4,
  "nbformat_minor": 0
}
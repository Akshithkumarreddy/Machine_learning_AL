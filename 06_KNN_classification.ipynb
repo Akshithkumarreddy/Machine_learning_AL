{
  "nbformat": 4,
  "nbformat_minor": 0,
  "metadata": {
    "colab": {
      "provenance": [],
      "include_colab_link": true
    },
    "kernelspec": {
      "name": "python3",
      "display_name": "Python 3"
    },
    "language_info": {
      "name": "python"
    }
  },
  "cells": [
    {
      "cell_type": "markdown",
      "metadata": {
        "id": "view-in-github",
        "colab_type": "text"
      },
      "source": [
        "<a href=\"https://colab.research.google.com/github/Akshithkumarreddy/Machine_learning_AL/blob/main/06_KNN_classification.ipynb\" target=\"_parent\"><img src=\"https://colab.research.google.com/assets/colab-badge.svg\" alt=\"Open In Colab\"/></a>"
      ]
    },
    {
      "cell_type": "markdown",
      "metadata": {
        "id": "EvgAMk2IpsNQ"
      },
      "source": [
        "**IMPORT HEADERS**"
      ]
    },
    {
      "cell_type": "code",
      "metadata": {
        "id": "69cac090"
      },
      "source": [
        "import numpy as np\n",
        "import pandas as pd\n",
        "from scipy.stats import mode\n",
        "from sklearn.model_selection import train_test_split\n",
        "from sklearn.metrics import accuracy_score"
      ],
      "execution_count": 1,
      "outputs": []
    },
    {
      "cell_type": "markdown",
      "metadata": {
        "id": "7tBGBH4mpvp6"
      },
      "source": [
        "**READ CSV FILE**"
      ]
    },
    {
      "cell_type": "code",
      "metadata": {
        "id": "e0fa6912",
        "colab": {
          "base_uri": "https://localhost:8080/"
        },
        "outputId": "b8a34387-c4f6-4d0c-d79b-c6e99951547c"
      },
      "source": [
        "iris = pd.read_csv('Irisdataset.csv')\n",
        "iris.info()"
      ],
      "execution_count": 12,
      "outputs": [
        {
          "output_type": "stream",
          "name": "stdout",
          "text": [
            "<class 'pandas.core.frame.DataFrame'>\n",
            "RangeIndex: 150 entries, 0 to 149\n",
            "Data columns (total 6 columns):\n",
            " #   Column         Non-Null Count  Dtype  \n",
            "---  ------         --------------  -----  \n",
            " 0   Id             150 non-null    int64  \n",
            " 1   SepalLengthCm  150 non-null    float64\n",
            " 2   SepalWidthCm   150 non-null    float64\n",
            " 3   PetalLengthCm  150 non-null    float64\n",
            " 4   PetalWidthCm   150 non-null    float64\n",
            " 5   Species        150 non-null    object \n",
            "dtypes: float64(4), int64(1), object(1)\n",
            "memory usage: 7.2+ KB\n"
          ]
        }
      ]
    },
    {
      "cell_type": "markdown",
      "metadata": {
        "id": "Ii72w5Xtpyov"
      },
      "source": [
        "**REPLACE UNWANTED COLUMNS**"
      ]
    },
    {
      "cell_type": "code",
      "metadata": {
        "id": "QbpmZbHfp2cA"
      },
      "source": [
        "iris.drop(columns=\"Id\",inplace=True)"
      ],
      "execution_count": 5,
      "outputs": []
    },
    {
      "cell_type": "markdown",
      "metadata": {
        "id": "Vi7TgdGlp-JW"
      },
      "source": [
        "**DIVIDING INTO DATA AND LABEL**"
      ]
    },
    {
      "cell_type": "code",
      "metadata": {
        "id": "1ca8135b"
      },
      "source": [
        "X=iris.iloc[:,0:4].values\n",
        "Y=iris.iloc[:,4].values"
      ],
      "execution_count": 6,
      "outputs": []
    },
    {
      "cell_type": "markdown",
      "metadata": {
        "id": "O-4jo3F7qFsq"
      },
      "source": [
        "**SPLITTING DATA INTO TRAIN & TEST**"
      ]
    },
    {
      "cell_type": "code",
      "metadata": {
        "id": "Y8u2IhsJqM9c"
      },
      "source": [
        "X_train,X_test,Y_train,Y_test=train_test_split(X,Y,test_size=0.2,random_state=0)"
      ],
      "execution_count": 7,
      "outputs": []
    },
    {
      "cell_type": "markdown",
      "metadata": {
        "id": "gQ9F-fjuqSJN"
      },
      "source": [
        "**CHECKING SHAPE OF TRAIN AND TEST DATA**"
      ]
    },
    {
      "cell_type": "code",
      "metadata": {
        "colab": {
          "base_uri": "https://localhost:8080/"
        },
        "id": "6ttiy9myKTyc",
        "outputId": "bd9e3b18-45ce-4078-fdc0-c5be97fc88a2"
      },
      "source": [
        "print(\"Shape of X-train : \",X_train.shape)\n",
        "print(\"Shape of Y-train : \",Y_train.shape)\n",
        "\n",
        "print(\"Shape of X-test : \",X_test.shape)\n",
        "print(\"Shape of Y-test : \",Y_test.shape)"
      ],
      "execution_count": 8,
      "outputs": [
        {
          "output_type": "stream",
          "name": "stdout",
          "text": [
            "Shape of X-train :  (120, 4)\n",
            "Shape of Y-train :  (120,)\n",
            "Shape of X-test :  (30, 4)\n",
            "Shape of Y-test :  (30,)\n"
          ]
        }
      ]
    },
    {
      "cell_type": "markdown",
      "metadata": {
        "id": "FTUR6Hjmq0le"
      },
      "source": [
        "**FUNCTION TO CALCULATE EUCLIDEAN DISTANCE**"
      ]
    },
    {
      "cell_type": "code",
      "metadata": {
        "id": "GHpLhA4LoMxS"
      },
      "source": [
        "def eucledian(sample_1, sample_2):\n",
        "    return np.sqrt(np.sum((sample_1-sample_2)**2))"
      ],
      "execution_count": 9,
      "outputs": []
    },
    {
      "cell_type": "markdown",
      "metadata": {
        "id": "Nts2Eh6ZrLTB"
      },
      "source": [
        "**FUNCTION TO DO CLASSIFICATION**"
      ]
    },
    {
      "cell_type": "code",
      "metadata": {
        "id": "E9fZ6qean4IW"
      },
      "source": [
        "def knn_classifier(k, X_train, Y_train, X_test):\n",
        "\n",
        "    output_label = []\n",
        "\n",
        "    for sample in X_test:\n",
        "\n",
        "        sample_distance = []\n",
        "\n",
        "        for j in range(len(X_train)):\n",
        "            sample_distance.append(eucledian(np.array(X_train[j,:]) , sample))\n",
        "        sample_distance = np.array(sample_distance)\n",
        "\n",
        "        indexes = np.argsort(sample_distance)[:k]\n",
        "\n",
        "        labels = Y_train[indexes]\n",
        "\n",
        "        label = mode(labels)\n",
        "        label = label.mode[0]\n",
        "        output_label.append(label)\n",
        "\n",
        "    return output_label"
      ],
      "execution_count": 10,
      "outputs": []
    },
    {
      "cell_type": "markdown",
      "metadata": {
        "id": "LCvxRsQR2mHG"
      },
      "source": [
        "**MAKING PREDICTIONS**"
      ]
    },
    {
      "cell_type": "code",
      "metadata": {
        "id": "eJaeEwOnn87b",
        "colab": {
          "base_uri": "https://localhost:8080/",
          "height": 311
        },
        "outputId": "90f0a05e-fc62-4c60-cbd5-9fdd6843fad7"
      },
      "source": [
        "Y_pred = knn_classifier(5, X_train,Y_train,X_test)"
      ],
      "execution_count": 11,
      "outputs": [
        {
          "output_type": "error",
          "ename": "TypeError",
          "evalue": "Argument `a` is not recognized as numeric. Support for input that cannot be coerced to a numeric array was deprecated in SciPy 1.9.0 and removed in SciPy 1.11.0. Please consider `np.unique`.",
          "traceback": [
            "\u001b[0;31m---------------------------------------------------------------------------\u001b[0m",
            "\u001b[0;31mTypeError\u001b[0m                                 Traceback (most recent call last)",
            "\u001b[0;32m<ipython-input-11-f6fb1bee305f>\u001b[0m in \u001b[0;36m<cell line: 0>\u001b[0;34m()\u001b[0m\n\u001b[0;32m----> 1\u001b[0;31m \u001b[0mY_pred\u001b[0m \u001b[0;34m=\u001b[0m \u001b[0mknn_classifier\u001b[0m\u001b[0;34m(\u001b[0m\u001b[0;36m5\u001b[0m\u001b[0;34m,\u001b[0m \u001b[0mX_train\u001b[0m\u001b[0;34m,\u001b[0m\u001b[0mY_train\u001b[0m\u001b[0;34m,\u001b[0m\u001b[0mX_test\u001b[0m\u001b[0;34m)\u001b[0m\u001b[0;34m\u001b[0m\u001b[0;34m\u001b[0m\u001b[0m\n\u001b[0m",
            "\u001b[0;32m<ipython-input-10-0acf56d7cae0>\u001b[0m in \u001b[0;36mknn_classifier\u001b[0;34m(k, X_train, Y_train, X_test)\u001b[0m\n\u001b[1;32m     15\u001b[0m         \u001b[0mlabels\u001b[0m \u001b[0;34m=\u001b[0m \u001b[0mY_train\u001b[0m\u001b[0;34m[\u001b[0m\u001b[0mindexes\u001b[0m\u001b[0;34m]\u001b[0m\u001b[0;34m\u001b[0m\u001b[0;34m\u001b[0m\u001b[0m\n\u001b[1;32m     16\u001b[0m \u001b[0;34m\u001b[0m\u001b[0m\n\u001b[0;32m---> 17\u001b[0;31m         \u001b[0mlabel\u001b[0m \u001b[0;34m=\u001b[0m \u001b[0mmode\u001b[0m\u001b[0;34m(\u001b[0m\u001b[0mlabels\u001b[0m\u001b[0;34m)\u001b[0m\u001b[0;34m\u001b[0m\u001b[0;34m\u001b[0m\u001b[0m\n\u001b[0m\u001b[1;32m     18\u001b[0m         \u001b[0mlabel\u001b[0m \u001b[0;34m=\u001b[0m \u001b[0mlabel\u001b[0m\u001b[0;34m.\u001b[0m\u001b[0mmode\u001b[0m\u001b[0;34m[\u001b[0m\u001b[0;36m0\u001b[0m\u001b[0;34m]\u001b[0m\u001b[0;34m\u001b[0m\u001b[0;34m\u001b[0m\u001b[0m\n\u001b[1;32m     19\u001b[0m         \u001b[0moutput_label\u001b[0m\u001b[0;34m.\u001b[0m\u001b[0mappend\u001b[0m\u001b[0;34m(\u001b[0m\u001b[0mlabel\u001b[0m\u001b[0;34m)\u001b[0m\u001b[0;34m\u001b[0m\u001b[0;34m\u001b[0m\u001b[0m\n",
            "\u001b[0;32m/usr/local/lib/python3.11/dist-packages/scipy/stats/_axis_nan_policy.py\u001b[0m in \u001b[0;36maxis_nan_policy_wrapper\u001b[0;34m(***failed resolving arguments***)\u001b[0m\n\u001b[1;32m    571\u001b[0m                     \u001b[0;32mreturn\u001b[0m \u001b[0mtuple_to_result\u001b[0m\u001b[0;34m(\u001b[0m\u001b[0;34m*\u001b[0m\u001b[0mres\u001b[0m\u001b[0;34m)\u001b[0m\u001b[0;34m\u001b[0m\u001b[0;34m\u001b[0m\u001b[0m\n\u001b[1;32m    572\u001b[0m \u001b[0;34m\u001b[0m\u001b[0m\n\u001b[0;32m--> 573\u001b[0;31m                 \u001b[0mres\u001b[0m \u001b[0;34m=\u001b[0m \u001b[0mhypotest_fun_out\u001b[0m\u001b[0;34m(\u001b[0m\u001b[0;34m*\u001b[0m\u001b[0msamples\u001b[0m\u001b[0;34m,\u001b[0m \u001b[0;34m**\u001b[0m\u001b[0mkwds\u001b[0m\u001b[0;34m)\u001b[0m\u001b[0;34m\u001b[0m\u001b[0;34m\u001b[0m\u001b[0m\n\u001b[0m\u001b[1;32m    574\u001b[0m                 \u001b[0mres\u001b[0m \u001b[0;34m=\u001b[0m \u001b[0mresult_to_tuple\u001b[0m\u001b[0;34m(\u001b[0m\u001b[0mres\u001b[0m\u001b[0;34m)\u001b[0m\u001b[0;34m\u001b[0m\u001b[0;34m\u001b[0m\u001b[0m\n\u001b[1;32m    575\u001b[0m                 \u001b[0mres\u001b[0m \u001b[0;34m=\u001b[0m \u001b[0m_add_reduced_axes\u001b[0m\u001b[0;34m(\u001b[0m\u001b[0mres\u001b[0m\u001b[0;34m,\u001b[0m \u001b[0mreduced_axes\u001b[0m\u001b[0;34m,\u001b[0m \u001b[0mkeepdims\u001b[0m\u001b[0;34m)\u001b[0m\u001b[0;34m\u001b[0m\u001b[0;34m\u001b[0m\u001b[0m\n",
            "\u001b[0;32m/usr/local/lib/python3.11/dist-packages/scipy/stats/_stats_py.py\u001b[0m in \u001b[0;36mmode\u001b[0;34m(a, axis, nan_policy, keepdims)\u001b[0m\n\u001b[1;32m    522\u001b[0m                    \u001b[0;34m\"array was deprecated in SciPy 1.9.0 and removed in SciPy \"\u001b[0m\u001b[0;34m\u001b[0m\u001b[0;34m\u001b[0m\u001b[0m\n\u001b[1;32m    523\u001b[0m                    \"1.11.0. Please consider `np.unique`.\")\n\u001b[0;32m--> 524\u001b[0;31m         \u001b[0;32mraise\u001b[0m \u001b[0mTypeError\u001b[0m\u001b[0;34m(\u001b[0m\u001b[0mmessage\u001b[0m\u001b[0;34m)\u001b[0m\u001b[0;34m\u001b[0m\u001b[0;34m\u001b[0m\u001b[0m\n\u001b[0m\u001b[1;32m    525\u001b[0m \u001b[0;34m\u001b[0m\u001b[0m\n\u001b[1;32m    526\u001b[0m     \u001b[0;32mif\u001b[0m \u001b[0ma\u001b[0m\u001b[0;34m.\u001b[0m\u001b[0msize\u001b[0m \u001b[0;34m==\u001b[0m \u001b[0;36m0\u001b[0m\u001b[0;34m:\u001b[0m\u001b[0;34m\u001b[0m\u001b[0;34m\u001b[0m\u001b[0m\n",
            "\u001b[0;31mTypeError\u001b[0m: Argument `a` is not recognized as numeric. Support for input that cannot be coerced to a numeric array was deprecated in SciPy 1.9.0 and removed in SciPy 1.11.0. Please consider `np.unique`."
          ]
        }
      ]
    },
    {
      "cell_type": "markdown",
      "metadata": {
        "id": "UL5g4ecD21jA"
      },
      "source": [
        "**CHECKING ACCURACIES BY VARYING K**"
      ]
    },
    {
      "cell_type": "code",
      "metadata": {
        "colab": {
          "base_uri": "https://localhost:8080/"
        },
        "id": "RXDQB1BJ07aa",
        "outputId": "c84130f4-7ec1-4dd2-bddf-557ad1848149"
      },
      "source": [
        "for i in range(1,21,2):\n",
        "    print(\"The {}-nn Classifier Accuracy is : {} % tested on {} samples.\".format(i, accuracy_score(Y_test, knn_classifier(i, X_train,Y_train,X_test))*100, len(X_test)))"
      ],
      "execution_count": null,
      "outputs": [
        {
          "output_type": "stream",
          "name": "stdout",
          "text": [
            "The 1-nn Classifier Accuracy is : 100.0 % tested on 30 samples.\n",
            "The 3-nn Classifier Accuracy is : 96.66666666666667 % tested on 30 samples.\n",
            "The 5-nn Classifier Accuracy is : 96.66666666666667 % tested on 30 samples.\n",
            "The 7-nn Classifier Accuracy is : 100.0 % tested on 30 samples.\n",
            "The 9-nn Classifier Accuracy is : 100.0 % tested on 30 samples.\n",
            "The 11-nn Classifier Accuracy is : 100.0 % tested on 30 samples.\n",
            "The 13-nn Classifier Accuracy is : 100.0 % tested on 30 samples.\n",
            "The 15-nn Classifier Accuracy is : 100.0 % tested on 30 samples.\n",
            "The 17-nn Classifier Accuracy is : 100.0 % tested on 30 samples.\n",
            "The 19-nn Classifier Accuracy is : 100.0 % tested on 30 samples.\n"
          ]
        }
      ]
    }
  ]
}
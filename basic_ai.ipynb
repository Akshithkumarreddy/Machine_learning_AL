{
  "nbformat": 4,
  "nbformat_minor": 0,
  "metadata": {
    "colab": {
      "provenance": [],
      "authorship_tag": "ABX9TyMIbiczusJyDCVC3sRHj91E",
      "include_colab_link": true
    },
    "kernelspec": {
      "name": "python3",
      "display_name": "Python 3"
    },
    "language_info": {
      "name": "python"
    }
  },
  "cells": [
    {
      "cell_type": "markdown",
      "metadata": {
        "id": "view-in-github",
        "colab_type": "text"
      },
      "source": [
        "<a href=\"https://colab.research.google.com/github/Akshithkumarreddy/Machine_learning_AL/blob/main/basic_ai.ipynb\" target=\"_parent\"><img src=\"https://colab.research.google.com/assets/colab-badge.svg\" alt=\"Open In Colab\"/></a>"
      ]
    },
    {
      "cell_type": "code",
      "execution_count": null,
      "metadata": {
        "id": "UoqEmKhHZSU2"
      },
      "outputs": [],
      "source": [
        "#what is AI?\n",
        "\n",
        "#Software that imitates human capabilities"
      ]
    },
    {
      "cell_type": "code",
      "source": [
        "#common work loads\n",
        "\n",
        "Machine learning - foundation of AI system,\n",
        "anomaly detection - automatically detect unusal activity\n",
        "computer vision - interprect the world with video/images\n",
        "NLP - interprete human language\n",
        "conversational AI - refer to bot to participate in conversation"
      ],
      "metadata": {
        "id": "_OZOadtCZf6z"
      },
      "execution_count": null,
      "outputs": []
    },
    {
      "cell_type": "code",
      "source": [
        "Azure ML - Platform for training and deploying ML models\n",
        "cognitive services. - API for AI\n",
        "azure bot service - chatbots (Cloud based)"
      ],
      "metadata": {
        "id": "siwdtHSBaOIv"
      },
      "execution_count": null,
      "outputs": []
    },
    {
      "cell_type": "code",
      "source": [],
      "metadata": {
        "id": "YWIjFSqDagIC"
      },
      "execution_count": null,
      "outputs": []
    }
  ]
}
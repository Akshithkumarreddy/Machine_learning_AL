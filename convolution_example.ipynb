{
  "nbformat": 4,
  "nbformat_minor": 0,
  "metadata": {
    "colab": {
      "provenance": [],
      "authorship_tag": "ABX9TyMTmKtr4SpXk023m7M+rkeS",
      "include_colab_link": true
    },
    "kernelspec": {
      "name": "python3",
      "display_name": "Python 3"
    },
    "language_info": {
      "name": "python"
    }
  },
  "cells": [
    {
      "cell_type": "markdown",
      "metadata": {
        "id": "view-in-github",
        "colab_type": "text"
      },
      "source": [
        "<a href=\"https://colab.research.google.com/github/Akshithkumarreddy/Machine_learning_AL/blob/main/convolution_example.ipynb\" target=\"_parent\"><img src=\"https://colab.research.google.com/assets/colab-badge.svg\" alt=\"Open In Colab\"/></a>"
      ]
    },
    {
      "cell_type": "code",
      "execution_count": 24,
      "metadata": {
        "id": "wdUpi09nT3qD"
      },
      "outputs": [],
      "source": [
        "import numpy as np"
      ]
    },
    {
      "cell_type": "code",
      "source": [
        "# Generate a random 5x5 input matrix and a 3x3 kernel\n",
        "input_matrix = np.random.randint(0, 10, (5, 5))\n",
        "kernel = np.random.randint(0, 10, (3, 3))\n",
        "\n",
        "print(input_matrix)\n",
        "print(kernel)"
      ],
      "metadata": {
        "colab": {
          "base_uri": "https://localhost:8080/"
        },
        "id": "zwTBX94uWu4F",
        "outputId": "83bdc10a-8328-4302-c43d-23e7a782e0c9"
      },
      "execution_count": 26,
      "outputs": [
        {
          "output_type": "stream",
          "name": "stdout",
          "text": [
            "[[7 2 0 3 5]\n",
            " [9 4 4 6 4]\n",
            " [4 3 4 4 8]\n",
            " [4 3 7 5 5]\n",
            " [0 1 5 9 3]]\n",
            "[[0 5 0]\n",
            " [1 2 4]\n",
            " [2 0 3]]\n"
          ]
        }
      ]
    },
    {
      "cell_type": "code",
      "source": [
        "# Get dimensions\n",
        "input_rows, input_cols = input_matrix.shape\n",
        "kernel_size = kernel.shape[0]  # assuming square kernel\n",
        "output_size = input_rows - kernel_size + 1"
      ],
      "metadata": {
        "id": "_VQV6RLzWxb4"
      },
      "execution_count": 27,
      "outputs": []
    },
    {
      "cell_type": "code",
      "source": [
        "# Initialize output matrix\n",
        "output = np.zeros((output_size, output_size))"
      ],
      "metadata": {
        "id": "-1-uuDg0WztN"
      },
      "execution_count": 28,
      "outputs": []
    },
    {
      "cell_type": "code",
      "source": [
        "# Perform convolution using for loops\n",
        "for i in range(output_size):\n",
        "    for j in range(output_size):\n",
        "        region = input_matrix[i:i+kernel_size, j:j+kernel_size]\n",
        "        output[i, j] = np.sum(region * kernel)"
      ],
      "metadata": {
        "id": "sulLViJXW1nW"
      },
      "execution_count": 29,
      "outputs": []
    },
    {
      "cell_type": "code",
      "source": [
        "# Display results\n",
        "print(\"Input Matrix:\\n\", input_matrix)\n",
        "print(\"\\nKernel:\\n\", kernel)\n",
        "print(\"\\nConvolved Output:\\n\", output)"
      ],
      "metadata": {
        "colab": {
          "base_uri": "https://localhost:8080/"
        },
        "id": "cC6TjqtZW4oJ",
        "outputId": "6dd7e3c7-d4c5-4fd6-f01f-3eafb3677a52"
      },
      "execution_count": 30,
      "outputs": [
        {
          "output_type": "stream",
          "name": "stdout",
          "text": [
            "Input Matrix:\n",
            " [[7 2 0 3 5]\n",
            " [9 4 4 6 4]\n",
            " [4 3 4 4 8]\n",
            " [4 3 7 5 5]\n",
            " [0 1 5 9 3]]\n",
            "\n",
            "Kernel:\n",
            " [[0 5 0]\n",
            " [1 2 4]\n",
            " [2 0 3]]\n",
            "\n",
            "Convolved Output:\n",
            " [[ 63.  54.  79.]\n",
            " [ 75.  68. 103.]\n",
            " [ 68.  86.  76.]]\n"
          ]
        }
      ]
    }
  ]
}